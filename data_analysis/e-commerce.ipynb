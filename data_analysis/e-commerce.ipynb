{
 "cells": [
  {
   "cell_type": "markdown",
   "id": "022a0f40",
   "metadata": {},
   "source": [
    "# Analyzing e-commerce data"
   ]
  },
  {
   "cell_type": "markdown",
   "id": "661bcef6",
   "metadata": {},
   "source": [
    "Your csv file contains information about the sales of the products you choose. The release year, genre, ratings and number of sales for different territories are present in this file."
   ]
  },
  {
   "cell_type": "markdown",
   "id": "6e885667",
   "metadata": {},
   "source": [
    "## Getting started with the dataset\n"
   ]
  },
  {
   "cell_type": "code",
   "execution_count": 2,
   "id": "0fc102f4",
   "metadata": {},
   "outputs": [],
   "source": [
    "# Use the pandas library to read your csv file\n",
    "import pandas as pd\n",
    "import datetime\n",
    "df = pd.read_csv(\"database.csv\")"
   ]
  },
  {
   "cell_type": "code",
   "execution_count": 98,
   "id": "056faae5",
   "metadata": {},
   "outputs": [
    {
     "name": "stdout",
     "output_type": "stream",
     "text": [
      "Nombre de colonnes: 12\n"
     ]
    }
   ],
   "source": [
    "# How many columns does it contains?\n",
    "cols = len(df.axes[1])\n",
    "print(\"Columns count:\", cols)"
   ]
  },
  {
   "cell_type": "code",
   "execution_count": 140,
   "id": "aff66f13",
   "metadata": {},
   "outputs": [
    {
     "name": "stdout",
     "output_type": "stream",
     "text": [
      "Unique elements count: 24\n"
     ]
    }
   ],
   "source": [
    "# How many **unique** product are reported in this dataset?\n",
    "nbUniqueElements = df['Name'].unique()\n",
    "print(\"Unique elements count:\",len(nbUniqueElements))"
   ]
  },
  {
   "cell_type": "markdown",
   "id": "c2b31462",
   "metadata": {},
   "source": [
    "## Data analyze"
   ]
  },
  {
   "cell_type": "code",
   "execution_count": 14,
   "id": "625821c7",
   "metadata": {},
   "outputs": [
    {
     "name": "stdout",
     "output_type": "stream",
     "text": [
      "Oldest release year: 2014\n",
      "Newest release year: 2022\n"
     ]
    }
   ],
   "source": [
    "# What is the oldest release year? The most recent?\n",
    "\n",
    "min_val = df['CreationDate'].min()\n",
    "formated_min = datetime.datetime.fromtimestamp(int(min_val)/ 1e3).year\n",
    "print(\"Oldest release year:\",formated_min)\n",
    "\n",
    "max_val = df['CreationDate'].max()\n",
    "formated_max = datetime.datetime.fromtimestamp(int(max_val)/ 1e3).year\n",
    "print(\"Newest release year:\", formated_max)\n",
    "\n"
   ]
  },
  {
   "cell_type": "code",
   "execution_count": 138,
   "id": "500a0a40",
   "metadata": {},
   "outputs": [
    {
     "name": "stdout",
     "output_type": "stream",
     "text": [
      "Publishers count: 307\n"
     ]
    }
   ],
   "source": [
    "# How many different publishers are present? List them\n",
    "nbSuppliers = df['Suppliers'].nunique()\n",
    "print(\"Publishers count:\",nbSuppliers)"
   ]
  },
  {
   "cell_type": "code",
   "execution_count": 144,
   "id": "7db5ee47",
   "metadata": {},
   "outputs": [
    {
     "name": "stdout",
     "output_type": "stream",
     "text": [
      "Automotive: 56 products\n",
      "Baby: 49 products\n",
      "Beauty: 101 products\n",
      "Books: 58 products\n",
      "Clothing: 45 products\n",
      "Computers: 42 products\n",
      "Electronics: 42 products\n",
      "Games: 49 products\n",
      "Garden: 57 products\n",
      "Grocery: 41 products\n",
      "Health: 55 products\n",
      "Home: 46 products\n",
      "Industrial: 33 products\n",
      "Jewelery: 47 products\n",
      "Kids: 32 products\n",
      "Movies: 54 products\n",
      "Music: 63 products\n",
      "Outdoors: 30 products\n",
      "Shoes: 42 products\n",
      "Sports: 25 products\n",
      "Tools: 14 products\n",
      "Toys: 34 products\n"
     ]
    }
   ],
   "source": [
    "# Count the number of products released for each category.\n",
    "# Sort them in increasing order, and print them in a \n",
    "# horizontal bar graph.\n",
    "result = df.groupby('Category')['Name'].apply(list)\n",
    "\n",
    "for i in range(len(result)):\n",
    "    print(result.index[i] + \":\", len(result[i]), \"products\")\n",
    "\n"
   ]
  },
  {
   "cell_type": "code",
   "execution_count": 149,
   "id": "151bb3ec",
   "metadata": {},
   "outputs": [
    {
     "data": {
      "text/plain": [
       "<AxesSubplot: >"
      ]
     },
     "execution_count": 149,
     "metadata": {},
     "output_type": "execute_result"
    },
    {
     "data": {
      "image/png": "[encoded data removed]",
      "text/plain": [
       "<Figure size 640x480 with 1 Axes>"
      ]
     },
     "metadata": {},
     "output_type": "display_data"
    }
   ],
   "source": [
    "# Print with a plot line the global sales for each year.\n",
    "# What was the most selling year?\n",
    "from pandas import Series\n",
    "\n",
    "dataDraft = df.groupby('CreationDate')['Total'].apply(list).to_dict()\n",
    "\n",
    "new_indexes = []\n",
    "values = []\n",
    "for key in dataDraft.keys():\n",
    "    new_indexes.append(datetime.datetime.fromtimestamp(int(key) / 1e3).year)\n",
    "    tempValues = dataDraft[key]\n",
    "    tempSlice = 0.0\n",
    "    for element in tempValues:\n",
    "        tempSlice += int(element[:-1])\n",
    "    values.append(tempSlice)\n",
    "    \n",
    "finalData = pd.Series(values, new_indexes)\n",
    "\n",
    "finalData.plot.line()"
   ]
  },
  {
   "cell_type": "code",
   "execution_count": 154,
   "id": "64c89574",
   "metadata": {},
   "outputs": [
    {
     "name": "stdout",
     "output_type": "stream",
     "text": [
      "Top 10most selling products:\n",
      " Name\n",
      "Keyboard    319840.0\n",
      "Car         292316.0\n",
      "Pizza       290807.0\n",
      "Hat         278792.0\n",
      "Mouse       266539.0\n",
      "Towels      265702.0\n",
      "Cheese      248488.0\n",
      "Soap        232954.0\n",
      "Shoes       222867.0\n",
      "Fish        212166.0\n",
      "Name: Total, dtype: object\n"
     ]
    }
   ],
   "source": [
    "# What are the top 10 most selling product?\n",
    "\n",
    "sellingDataDraft = df.groupby('Name')['Total'].apply(list)\n",
    "# sellingDataDraft\n",
    "\n",
    "for i in range(len(sellingDataDraft.values)):\n",
    "    tempValues = sellingDataDraft.values[i]\n",
    "    totalByObject = 0.0\n",
    "    for element in tempValues:\n",
    "        totalByObject += int(element[:-1])\n",
    "    totalInEuros = str(totalByObject)\n",
    "    sellingDataDraft.values[i] = totalByObject\n",
    "\n",
    "topBoard = 10\n",
    "sellingFinalData = sellingDataDraft.sort_values(ascending=False)\n",
    "print(\"Top \" + str(topBoard) + \"most selling products:\\n\",sellingFinalData[:topBoard])\n",
    "\n",
    "        "
   ]
  },
  {
   "cell_type": "code",
   "execution_count": 115,
   "id": "e8c989a4",
   "metadata": {},
   "outputs": [
    {
     "data": {
      "text/plain": [
       "<AxesSubplot: ylabel=' '>"
      ]
     },
     "execution_count": 115,
     "metadata": {},
     "output_type": "execute_result"
    },
    {
     "data": {
      "image/png": "[encoded data removed]",
      "text/plain": [
       "<Figure size 640x480 with 1 Axes>"
      ]
     },
     "metadata": {},
     "output_type": "display_data"
    }
   ],
   "source": [
    "# Use a **pie** chart to visualize the sales of the different category\n",
    "\n",
    "\n",
    "categorySales_DataDraft = df.groupby('Category')['Total'].apply(list)\n",
    "categorySales_DataDraft\n",
    "\n",
    "\n",
    "\n",
    "for i in range(len(categorySales_DataDraft.values)):\n",
    "    tempValues = categorySales_DataDraft.values[i]\n",
    "    totalByCategory = 0.0\n",
    "    for element in tempValues:\n",
    "        totalByCategory += int(element[:-1])\n",
    "    totalInEuros = str(totalByCategory)\n",
    "    categorySales_DataDraft.values[i] = totalByCategory\n",
    "\n",
    "\n",
    "\n",
    "dataToShow = categorySales_DataDraft.plot.pie()\n",
    "dataToShow.set_ylabel(\" \")\n",
    "dataToShow\n"
   ]
  },
  {
   "cell_type": "code",
   "execution_count": 150,
   "id": "d871fc04",
   "metadata": {},
   "outputs": [
    {
     "data": {
      "text/plain": [
       "Name\n",
       "Shoes       65325\n",
       "Keyboard    28560\n",
       "Bike        20392\n",
       "Car         19360\n",
       "Ball        13857\n",
       "Pizza       13160\n",
       "Sausages    11172\n",
       "Cheese      10692\n",
       "Towels      10679\n",
       "Chips        8580\n",
       "Shirt        8362\n",
       "Salad        6863\n",
       "Name: Total, dtype: object"
      ]
     },
     "execution_count": 150,
     "metadata": {},
     "output_type": "execute_result"
    }
   ],
   "source": [
    "# What are the top 10 best selling product in one category of your choice?\n",
    "bestBycategory_DataDraft = df.groupby(['Category', 'Name'])['Total'].apply(list)\n",
    "\n",
    "# bestBycategory_DataDraft\n",
    "\n",
    "for i in range(len(bestBycategory_DataDraft)):\n",
    "    tempPrice = bestBycategory_DataDraft[i]\n",
    "    tempTotal = 0\n",
    "    for element in tempPrice:\n",
    "        tempTotal += int(element[:-1])\n",
    "    bestBycategory_DataDraft[i] = tempTotal\n",
    "\n",
    "bestBycategory_DataDraft['Grocery'].sort_values(ascending=False)\n",
    "# bestBycategory_DataDraft\n"
   ]
  },
  {
   "cell_type": "code",
   "execution_count": 153,
   "id": "0d8b23c5",
   "metadata": {},
   "outputs": [
    {
     "name": "stdout",
     "output_type": "stream",
     "text": [
      "Average price for america's invoices: 4743.49\n"
     ]
    }
   ],
   "source": [
    "# What is the average \"price\" for America invoices? \n",
    "\n",
    "averageByContinent_DataDraft = df.groupby('Continent')['Total'].apply(list)\n",
    "americaAmount = averageByContinent_DataDraft['America']\n",
    "\n",
    "for i in range(len(americaAmount)):\n",
    "    americaAmount[i] = int(americaAmount[i][:-1])\n",
    "\n",
    "avg = round((sum(americaAmount)/len(americaAmount)),2)\n",
    "print(\"Average price for america's invoices:\", avg)\n"
   ]
  },
  {
   "cell_type": "code",
   "execution_count": 38,
   "id": "b0e02048",
   "metadata": {},
   "outputs": [
    {
     "name": "stdout",
     "output_type": "stream",
     "text": [
      "105 % of Invoices in America over Europe\n"
     ]
    }
   ],
   "source": [
    "# Find the ratio of invoices between America and Europe\n",
    "ratioByContinent_DataDraft = df.groupby('Continent')['InvoiceId'].apply(list)\n",
    "\n",
    "americaAmount = ratioByContinent_DataDraft['America']\n",
    "europeAmount = ratioByContinent_DataDraft['Europe']\n",
    "\n",
    "# Ratio\n",
    "print(round((len(americaAmount)/len(europeAmount)*100)), \"% of Invoices in America over Europe\")\n"
   ]
  },
  {
   "cell_type": "code",
   "execution_count": 65,
   "id": "5d2d34a9",
   "metadata": {},
   "outputs": [
    {
     "data": {
      "text/plain": [
       "Name\n",
       "Pizza     3.069667\n",
       "Cheese    2.938448\n",
       "Shirt     2.896111\n",
       "Name: Rating, dtype: float64"
      ]
     },
     "execution_count": 65,
     "metadata": {},
     "output_type": "execute_result"
    }
   ],
   "source": [
    "# What is/are the most rated product(s) ?\n",
    "mostRated_DataDraft = df.groupby('Name')['Rating']\n",
    "\n",
    "mostRated_DataDraft.mean().sort_values(ascending=False)[:3]\n"
   ]
  },
  {
   "cell_type": "code",
   "execution_count": 155,
   "id": "893cc422",
   "metadata": {},
   "outputs": [
    {
     "data": {
      "text/plain": [
       "Name     \n",
       "Pizza  60    3.07\n",
       "dtype: float64"
      ]
     },
     "execution_count": 155,
     "metadata": {},
     "output_type": "execute_result"
    }
   ],
   "source": [
    "# what is the most rated product considering the number of people who rate this one\n",
    "mostRatedUsers_DataDraft = df.groupby('Name')['Rating'].apply(list)\n",
    "\n",
    "nbVotes = []\n",
    "averages = []\n",
    "for i in range(len(mostRated_DataDraft)):\n",
    "    averages.append(round(sum(mostRatedUsers_DataDraft[i]) / len(mostRatedUsers_DataDraft[i]),2))\n",
    "    nbVotes.append(len(mostRatedUsers_DataDraft[i]))\n",
    "\n",
    "# averages\n",
    "finalData = pd.Series(averages, [mostRatedUsers_DataDraft.index,nbVotes])\n",
    "\n",
    "\n",
    "finalData.sort_values(ascending=False)[:1]\n",
    "\n"
   ]
  },
  {
   "cell_type": "code",
   "execution_count": 159,
   "id": "7bc84aea",
   "metadata": {},
   "outputs": [
    {
     "name": "stdout",
     "output_type": "stream",
     "text": [
      "Number of invoices containg the product found before: 60\n"
     ]
    }
   ],
   "source": [
    "# What is the number of invoices containing the product found before ?\n",
    "\n",
    "invoicesByProduct_DataDraft = df.groupby('Name')['InvoiceId'].apply(list)\n",
    "\n",
    "res = len(invoicesByProduct_DataDraft['Pizza'])\n",
    "print(\"Number of invoices containg the product found before:\",res)\n",
    "\n",
    "\n",
    "# What can you conclude about this ?\n",
    "\n",
    "# Every customers did rate the product they bought, making the most sold item, the most rated one."
   ]
  },
  {
   "cell_type": "code",
   "execution_count": null,
   "id": "3ccfa878",
   "metadata": {},
   "outputs": [],
   "source": []
  }
 ],
 "metadata": {
  "kernelspec": {
   "display_name": "Python 3.8.10 64-bit",
   "language": "python",
   "name": "python3"
  },
  "language_info": {
   "codemirror_mode": {
    "name": "ipython",
    "version": 3
   },
   "file_extension": ".py",
   "mimetype": "text/x-python",
   "name": "python",
   "nbconvert_exporter": "python",
   "pygments_lexer": "ipython3",
   "version": "3.8.10"
  },
  "vscode": {
   "interpreter": {
    "hash": "916dbcbb3f70747c44a77c7bcd40155683ae19c65e1c03b4aa3499c5328201f1"
   }
  }
 },
 "nbformat": 4,
 "nbformat_minor": 5
}
